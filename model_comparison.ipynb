{
 "cells": [
  {
   "cell_type": "markdown",
   "metadata": {},
   "source": [
    "# Preparation"
   ]
  },
  {
   "cell_type": "code",
   "execution_count": null,
   "metadata": {},
   "outputs": [],
   "source": [
    "import subprocess\n",
    "import sys\n",
    "subprocess.check_call([sys.executable, '-m', 'pip', 'install', 'gym'])\n",
    "\n",
    "import os\n",
    "import numpy as np\n",
    "import matplotlib.pyplot as plt\n",
    "%matplotlib inline\n",
    "\n",
    "PYTHON_PATH = '~/anaconda3/envs/tensorflow_p36/bin/python3'\n",
    "\n",
    "def train(chapter_dir_path, main_file_name, max_episode_num):\n",
    "    ! export TF_CPP_MIN_LOG_LEVEL=2 ; \\\n",
    "    cd {chapter_dir_path} ; \\\n",
    "    {PYTHON_PATH} {main_file_name} {max_episode_num}\n",
    "\n",
    "def plot_result(rewards_file_path):\n",
    "    rewards_file = open(rewards_file_path, 'r')\n",
    "    rewards = [ float(line) for line in rewards_file.readlines() ]\n",
    "    plt.plot(rewards)\n",
    "    plt.show()\n",
    "\n",
    "def test(chapter_dir_path, load_play_file_name):\n",
    "    ! export TF_CPP_MIN_LOG_LEVEL=2 ; \\\n",
    "    cd {chapter_dir_path} ; \\\n",
    "    {PYTHON_PATH} {load_play_file_name}"
   ]
  },
  {
   "cell_type": "markdown",
   "metadata": {},
   "source": [
    "# Chapter 3. Policy Gradient"
   ]
  },
  {
   "cell_type": "markdown",
   "metadata": {},
   "source": [
    "### Train"
   ]
  },
  {
   "cell_type": "code",
   "execution_count": null,
   "metadata": {},
   "outputs": [],
   "source": [
    "max_episode_num = 10000\n",
    "chapter_dir_path = os.path.join(os.getcwd(), 'Chap3')\n",
    "main_file_name = os.path.join(chapter_dir_path, 'pg_main.py')\n",
    "train(chapter_dir_path, main_file_name, max_episode_num)\n",
    "\n",
    "rewards_file_path = os.path.join(chapter_dir_path, 'save_weights', 'pendulum_epi_reward.txt')\n",
    "plot_result(rewards_file_path)"
   ]
  },
  {
   "cell_type": "markdown",
   "metadata": {},
   "source": [
    "### Test"
   ]
  },
  {
   "cell_type": "code",
   "execution_count": null,
   "metadata": {},
   "outputs": [],
   "source": [
    "load_play_file_name = 'pg_load_play.py'\n",
    "test(chapter_dir_path, load_play_file_name)"
   ]
  },
  {
   "cell_type": "markdown",
   "metadata": {},
   "source": [
    "# Chapter 4. A2C"
   ]
  },
  {
   "cell_type": "markdown",
   "metadata": {},
   "source": [
    "### Train"
   ]
  },
  {
   "cell_type": "code",
   "execution_count": null,
   "metadata": {},
   "outputs": [],
   "source": [
    "max_episode_num = 1000\n",
    "chapter_dir_path = os.path.join(os.getcwd(), 'Chap4')\n",
    "main_file_name = os.path.join(chapter_dir_path, 'a2c_main.py')\n",
    "train(chapter_dir_path, main_file_name, max_episode_num)\n",
    "\n",
    "rewards_file_path = os.path.join(chapter_dir_path, 'save_weights', 'pendulum_epi_reward.txt')\n",
    "plot_result(rewards_file_path)"
   ]
  },
  {
   "cell_type": "markdown",
   "metadata": {},
   "source": [
    "### Test"
   ]
  },
  {
   "cell_type": "code",
   "execution_count": null,
   "metadata": {},
   "outputs": [],
   "source": [
    "load_play_file_name = 'a2c_load_play.py'\n",
    "test(chapter_dir_path, load_play_file_name)"
   ]
  },
  {
   "cell_type": "markdown",
   "metadata": {},
   "source": [
    "# Chapter 5. A3C (Gradient Parallelism)"
   ]
  },
  {
   "cell_type": "markdown",
   "metadata": {},
   "source": [
    "### Train"
   ]
  },
  {
   "cell_type": "code",
   "execution_count": null,
   "metadata": {},
   "outputs": [],
   "source": [
    "max_episode_num = 1000\n",
    "chapter_dir_path = os.path.join(os.getcwd(), 'Chap5', 'A3CGradient')\n",
    "main_file_name = os.path.join(chapter_dir_path, 'a3c_main.py')\n",
    "train(chapter_dir_path, main_file_name, max_episode_num)\n",
    "\n",
    "rewards_file_path = os.path.join(chapter_dir_path, 'save_weights', 'pendulum_epi_reward.txt')\n",
    "plot_result(rewards_file_path)"
   ]
  },
  {
   "cell_type": "code",
   "execution_count": null,
   "metadata": {},
   "outputs": [],
   "source": [
    "load_play_file_name = 'a3c_load_play.py'\n",
    "test(chapter_dir_path, load_play_file_name)"
   ]
  },
  {
   "cell_type": "markdown",
   "metadata": {},
   "source": [
    "# Chapter 5. A3C (Data Parallelism)"
   ]
  },
  {
   "cell_type": "markdown",
   "metadata": {},
   "source": [
    "### Train"
   ]
  },
  {
   "cell_type": "code",
   "execution_count": null,
   "metadata": {},
   "outputs": [],
   "source": [
    "max_episode_num = 1000\n",
    "chapter_dir_path = os.path.join(os.getcwd(), 'Chap5', 'A3CData')\n",
    "main_file_name = os.path.join(chapter_dir_path, 'a3c_main.py')\n",
    "train(chapter_dir_path, main_file_name, max_episode_num)\n",
    "\n",
    "rewards_file_path = os.path.join(chapter_dir_path, 'save_weights', 'pendulum_epi_reward.txt')\n",
    "plot_result(rewards_file_path)"
   ]
  },
  {
   "cell_type": "code",
   "execution_count": null,
   "metadata": {},
   "outputs": [],
   "source": [
    "load_play_file_name = 'a3c_load_play.py'\n",
    "test(chapter_dir_path, load_play_file_name)"
   ]
  },
  {
   "cell_type": "markdown",
   "metadata": {},
   "source": [
    "# Chapter 6. PPO"
   ]
  },
  {
   "cell_type": "markdown",
   "metadata": {},
   "source": [
    "### Train"
   ]
  },
  {
   "cell_type": "code",
   "execution_count": null,
   "metadata": {},
   "outputs": [],
   "source": [
    "max_episode_num = 1000\n",
    "chapter_dir_path = os.path.join(os.getcwd(), 'Chap6')\n",
    "main_file_name = os.path.join(chapter_dir_path, 'ppo_main.py')\n",
    "train(chapter_dir_path, main_file_name, max_episode_num)\n",
    "\n",
    "rewards_file_path = os.path.join(chapter_dir_path, 'save_weights', 'pendulum_epi_reward.txt')\n",
    "plot_result(rewards_file_path)"
   ]
  },
  {
   "cell_type": "code",
   "execution_count": null,
   "metadata": {},
   "outputs": [],
   "source": [
    "load_play_file_name = 'ppo_load_play.py'\n",
    "test(chapter_dir_path, load_play_file_name)"
   ]
  }
 ],
 "metadata": {
  "kernelspec": {
   "display_name": "Environment (conda_tensorflow_p36)",
   "language": "python",
   "name": "conda_tensorflow_p36"
  },
  "language_info": {
   "codemirror_mode": {
    "name": "ipython",
    "version": 3
   },
   "file_extension": ".py",
   "mimetype": "text/x-python",
   "name": "python",
   "nbconvert_exporter": "python",
   "pygments_lexer": "ipython3",
   "version": "3.6.5"
  }
 },
 "nbformat": 4,
 "nbformat_minor": 4
}
